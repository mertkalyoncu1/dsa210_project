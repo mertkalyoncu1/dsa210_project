{
  "nbformat": 4,
  "nbformat_minor": 0,
  "metadata": {
    "colab": {
      "provenance": []
    },
    "kernelspec": {
      "name": "python3",
      "display_name": "Python 3"
    },
    "language_info": {
      "name": "python"
    }
  },
  "cells": [
    {
      "cell_type": "code",
      "execution_count": null,
      "metadata": {
        "colab": {
          "base_uri": "https://localhost:8080/"
        },
        "id": "5b5AgrjaBUoH",
        "outputId": "d0c88d79-9135-4880-ac4b-add96fae6535"
      },
      "outputs": [
        {
          "output_type": "stream",
          "name": "stdout",
          "text": [
            "Drive already mounted at /content/drive; to attempt to forcibly remount, call drive.mount(\"/content/drive\", force_remount=True).\n"
          ]
        }
      ],
      "source": [
        "from google.colab import drive\n",
        "import pandas as pd\n",
        "from datetime import datetime\n",
        "import json\n",
        "\n",
        "# Mount Google Drive\n",
        "drive.mount('/content/drive')\n",
        "\n",
        "# Define the file path in your Google Drive\n",
        "file_path = '/content/drive/My Drive/mkhistory.json'\n",
        "\n",
        "# Load the JSON file\n",
        "with open(file_path, \"r\") as file:\n",
        "    data = json.load(file)\n",
        "\n",
        "\n"
      ]
    },
    {
      "cell_type": "code",
      "source": [
        "# Extract relevant data\n",
        "processed_data = []\n",
        "for entry in data:\n",
        "    if \"time\" in entry and \"title\" in entry:\n",
        "        # Extract required fields\n",
        "        timestamp = entry[\"time\"]\n",
        "        title = entry[\"title\"].replace(\"Watched \", \"\")\n",
        "        url = entry.get(\"titleUrl\", None)\n",
        "        channel_name = None\n",
        "        if \"subtitles\" in entry:\n",
        "            channel_name = entry[\"subtitles\"][0].get(\"name\", None)\n",
        "\n",
        "        processed_data.append({\n",
        "            \"Timestamp\": timestamp,\n",
        "            \"Video Title\": title,\n",
        "            \"URL\": url,\n",
        "            \"Channel Name\": channel_name\n",
        "        })\n",
        "\n",
        "# Convert to DataFrame\n",
        "df = pd.DataFrame(processed_data)\n"
      ],
      "metadata": {
        "id": "nEzuXinRBwtJ"
      },
      "execution_count": null,
      "outputs": []
    },
    {
      "cell_type": "code",
      "source": [
        "df[\"Timestamp\"] = pd.to_datetime(df[\"Timestamp\"])\n",
        "df[\"Date\"] = df[\"Timestamp\"].dt.date\n",
        "df[\"Time\"] = df[\"Timestamp\"].dt.time\n",
        "df[\"Hour\"] = df[\"Timestamp\"].dt.hour\n",
        "df[\"Weekday\"] = df[\"Timestamp\"].dt.day_name()\n",
        "\n",
        "# Save cleaned data to CSV\n",
        "output_path = \"cleaned_watch_history_mk.csv\"\n",
        "df.to_csv(output_path, index=False)\n",
        "\n",
        "print(f\"Data cleaned and saved to {output_path}\")"
      ],
      "metadata": {
        "colab": {
          "base_uri": "https://localhost:8080/"
        },
        "id": "wqkBGViCBxQ7",
        "outputId": "3cd891c3-6b3b-419b-f9a9-6b123be8af9f"
      },
      "execution_count": null,
      "outputs": [
        {
          "output_type": "stream",
          "name": "stdout",
          "text": [
            "Data cleaned and saved to cleaned_watch_history_mk.csv\n"
          ]
        }
      ]
    }
  ]
}